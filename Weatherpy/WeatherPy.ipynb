{
 "cells": [
  {
   "cell_type": "code",
   "execution_count": null,
   "metadata": {},
   "outputs": [],
   "source": [
    "import numpy as np\n",
    "import pandas as pd\n",
    "import matplotlib.pyplot as plt\n",
    "from citipy import citipy\n",
    "import json\n",
    "import requests\n",
    "from random import uniform"
   ]
  },
  {
   "cell_type": "code",
   "execution_count": null,
   "metadata": {
    "scrolled": true
   },
   "outputs": [],
   "source": [
    "api_key = '223e00908491fdb261c8989de790f010'\n",
    "location_data = pd.DataFrame()\n",
    "location_data['ran_lat'] = [np.random.uniform(-90,90) for x in range(1350)]\n",
    "location_data['ran_long'] = [np.random.uniform(-180, 180) for x in range(1350)]\n",
    "\n",
    "location_data['closest_city'] = \"\"\n",
    "location_data['country'] = \"\"\n",
    "\n",
    "for index, row in location_data.iterrows():\n",
    "    lat = row['ran_lat']\n",
    "    lng = row['ran_long']\n",
    "    location_data.set_value(index, 'closest_city', citipy.nearest_city(lat, lng).city_name)\n",
    "    location_data.set_value(index, 'country', citipy.nearest_city(lat, lng).country_code)\n",
    "\n",
    "    \n",
    "location_data"
   ]
  },
  {
   "cell_type": "code",
   "execution_count": null,
   "metadata": {},
   "outputs": [],
   "source": [
    "location_data = location_data.drop_duplicates(subset='closest_city').reset_index()"
   ]
  },
  {
   "cell_type": "code",
   "execution_count": null,
   "metadata": {},
   "outputs": [],
   "source": [
    "location_data[\"Temp\"] = \"\"\n",
    "location_data[\"Humidity\"] = \"\"\n",
    "location_data[\"Wind Speed\"] = \"\"\n",
    "location_data[\"Cloudiness\"] = \"\"\n",
    "del location_data['index']\n",
    "location_data.head()"
   ]
  },
  {
   "cell_type": "code",
   "execution_count": null,
   "metadata": {},
   "outputs": [],
   "source": [
    "units = \"Imperial\"\n",
    "\n",
    "counter = 0\n",
    "for index, col in location_data.iterrows():\n",
    "    target_url = \"http://api.openweathermap.org/data/2.5/weather?units=%s&APPID=%s&q=%s\" % (units, api_key, col['closest_city'])\n",
    "    try:\n",
    "        map_data = requests.get(target_url).json()\n",
    "        location_data.set_value(index, \"Temp\", map_data[\"main\"][\"temp_max\"])\n",
    "        location_data.set_value(index, \"Humidity\", map_data[\"main\"][\"humidity\"])\n",
    "        location_data.set_value(index, \"Wind Speed\", map_data[\"wind\"][\"speed\"])\n",
    "        location_data.set_value(index, \"Cloudiness\", map_data[\"clouds\"][\"all\"])\n",
    "        print(\"------------------------\")\n",
    "        print(\"Getting data for the city:\" , counter, ':' , map_data[\"name\"])\n",
    "    except:\n",
    "        print(\"Missing Data for this city\")\n",
    "    counter = counter + 1"
   ]
  },
  {
   "cell_type": "code",
   "execution_count": null,
   "metadata": {},
   "outputs": [],
   "source": [
    "location_data=location_data.replace('', np.NaN,regex=True)\n",
    "location_data = location_data.dropna(axis=0, how='all',subset=['Temp'])\n",
    "location_data.to_csv(\"latandlong.csv\",encoding=\"utf-8\", index=False)\n"
   ]
  },
  {
   "cell_type": "code",
   "execution_count": null,
   "metadata": {},
   "outputs": [],
   "source": [
    "plt.scatter(location_data[\"ran_lat\"], location_data[\"Temp\"], marker=\"o\", color = 'blue')\n",
    "\n",
    "plt.title(\"Max Temp vs Latitude\")\n",
    "plt.ylabel(\"Max Temperature in F\")\n",
    "plt.xlabel(\"Latitude\")\n",
    "plt.yticks(np.arange(-60, 130, 20))\n",
    "plt.grid(True)\n",
    "\n",
    "plt.savefig(\"Latvstemp.png\")\n",
    "\n",
    "plt.show()"
   ]
  },
  {
   "cell_type": "code",
   "execution_count": null,
   "metadata": {},
   "outputs": [],
   "source": [
    "plt.scatter(location_data[\"ran_lat\"], location_data[\"Humidity\"], marker=\"o\", color = 'blue')\n",
    "\n",
    "plt.title(\"Humidity vs Latitude\")\n",
    "plt.ylabel(\"% Humidity\")\n",
    "plt.xlabel(\"Latitude\")\n",
    "plt.grid(True)\n",
    "plt.yticks(np.arange(-20, 130, 20))\n",
    "\n",
    "plt.savefig(\"Latvshumidity.png\")\n",
    "\n",
    "plt.show()"
   ]
  },
  {
   "cell_type": "code",
   "execution_count": null,
   "metadata": {},
   "outputs": [],
   "source": [
    "plt.scatter(location_data[\"ran_lat\"], location_data[\"Cloudiness\"], marker=\"o\", color = 'blue')\n",
    "\n",
    "plt.title(\"Cloudiness vs Latitude\") \n",
    "plt.ylabel(\"% Cloudiness\")\n",
    "plt.xlabel(\"Latitude\")\n",
    "plt.grid(True)\n",
    "plt.yticks(np.arange(-20, 140, 20))\n",
    "\n",
    "plt.savefig(\"Latvsclouds.png\")\n",
    "\n",
    "plt.show()\n"
   ]
  },
  {
   "cell_type": "code",
   "execution_count": null,
   "metadata": {},
   "outputs": [],
   "source": [
    "plt.scatter(location_data[\"ran_lat\"], location_data[\"Wind Speed\"], marker=\"o\", color = 'blue')\n",
    "\n",
    "plt.title(\"Wind Speed vs Latitude\")\n",
    "plt.ylabel(\"Wind Speed in mph\")\n",
    "plt.xlabel(\"Latitude\")\n",
    "plt.yticks(np.arange(-5, 60, 10))\n",
    "plt.grid(True)\n",
    "\n",
    "plt.savefig(\"Latvswindspeed.png\")\n",
    "\n",
    "plt.show()"
   ]
  }
 ],
 "metadata": {
  "kernelspec": {
   "display_name": "Python 3",
   "language": "python",
   "name": "python3"
  },
  "language_info": {
   "codemirror_mode": {
    "name": "ipython",
    "version": 3
   },
   "file_extension": ".py",
   "mimetype": "text/x-python",
   "name": "python",
   "nbconvert_exporter": "python",
   "pygments_lexer": "ipython3",
   "version": "3.7.3"
  }
 },
 "nbformat": 4,
 "nbformat_minor": 2
}
